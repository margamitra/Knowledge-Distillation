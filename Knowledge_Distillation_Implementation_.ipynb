{
 "nbformat": 4,
 "nbformat_minor": 0,
 "metadata": {
  "colab": {
   "provenance": [],
   "gpuType": "T4"
  },
  "kernelspec": {
   "name": "python3",
   "display_name": "Python 3"
  },
  "language_info": {
   "name": "python"
  },
  "accelerator": "GPU"
 },
 "cells": [
  {
   "cell_type": "code",
   "source": [
    "!pip install transformers"
   ],
   "metadata": {
    "colab": {
     "base_uri": "https://localhost:8080/"
    },
    "collapsed": true,
    "id": "OOI3qAgw7PJJ",
    "outputId": "7ec6b1e7-f568-4b93-afc7-a6cdb76f6310"
   },
   "execution_count": null,
   "outputs": []
  },
  {
   "cell_type": "code",
   "source": [
    "from transformers import TrainingArguments"
   ],
   "metadata": {
    "id": "aHS61PdK7fQQ"
   },
   "execution_count": null,
   "outputs": []
  },
  {
   "cell_type": "code",
   "source": [
    "class KnowledgeDistillationTrainingArguments(TrainingArguments):\n",
    "  def __init__(self, *args, alpha=0.5, temperature=2.0, **kwargs):\n",
    "    #The new hyperparameters \u03b1 and T \u03b1 - control the relative weight of the distillation loss T - how much the probability distribution of the labels should be smoothed\n",
    "    super().__init__(*args, **kwargs)\n",
    "    self.alpha = alpha\n",
    "    self.temperature = temperature\n",
    ""
   ],
   "metadata": {
    "id": "q8tLMaMF7j0C"
   },
   "execution_count": null,
   "outputs": []
  },
  {
   "cell_type": "markdown",
   "source": [
    " **Coding the Loss Function**"
   ],
   "metadata": {
    "id": "uNiBPzQR8G8o"
   }
  },
  {
   "cell_type": "code",
   "source": [
    "import torch.nn as nn\n",
    "import torch.nn.functional as F\n",
    "from transformers import Trainer"
   ],
   "metadata": {
    "id": "Izxpmh3w-LDo"
   },
   "execution_count": null,
   "outputs": []
  },
  {
   "cell_type": "code",
   "source": [
    "class KnowledgeDistillationTrainer(Trainer):\n",
    "  def __init__(self, *args, teacher_model=None, **kwargs):\n",
    "    super().__init__(*args, **kwargs)\n",
    "    self.teacher_model = teacher_model\n",
    "\n",
    "  def compute_loss(self, model, inputs, return_outputs=False, **kwargs):\n",
    "    #Extract cross-entropy loss and logits from student\n",
    "    outputs_student = model(**inputs)\n",
    "    loss_ce = outputs_student.loss\n",
    "    logits_student = outputs_student.logits\n",
    "\n",
    "    # Extract logits from teacher\n",
    "    outputs_teacher = self.teacher_model(**inputs)\n",
    "    logits_teacher = outputs_teacher.logits\n",
    "\n",
    "     #Computing distillation loss by Softening probabilities\n",
    "    loss_fct = nn.KLDivLoss(reduction=\"batchmean\")\n",
    "    #The reduction=batchmean argument in nn.KLDivLoss() specifies that we average the losses over the batch dimension.\n",
    "    loss_kd = self.args.temperature ** 2 * loss_fct(\n",
    "                F.log_softmax(logits_student / self.args.temperature, dim=-1),\n",
    "                F.softmax(logits_teacher / self.args.temperature, dim=-1))\n",
    "\n",
    "    # Return weighted student loss\n",
    "    loss = self.args.alpha * loss_ce + (1. - self.args.alpha) * loss_kd\n",
    "    return (loss, outputs_student) if return_outputs else loss\n"
   ],
   "metadata": {
    "id": "YJtobFKq71H4"
   },
   "execution_count": null,
   "outputs": []
  },
  {
   "cell_type": "markdown",
   "source": [
    "**Loading The datasets**"
   ],
   "metadata": {
    "id": "HMkhNo2H-tSa"
   }
  },
  {
   "cell_type": "code",
   "source": [
    "!pip install datasets"
   ],
   "metadata": {
    "colab": {
     "base_uri": "https://localhost:8080/"
    },
    "id": "gYR1_a4z-Gv8",
    "outputId": "8d6f62ea-8f77-4744-d8bd-461dca81a903"
   },
   "execution_count": null,
   "outputs": []
  },
  {
   "cell_type": "code",
   "source": [
    "from datasets import load_dataset"
   ],
   "metadata": {
    "id": "hDWsKZ6Z-1yA"
   },
   "execution_count": null,
   "outputs": []
  },
  {
   "cell_type": "code",
   "source": [
    "#Loading the CLINC150\n",
    "\n",
    "clinc = load_dataset(\"clinc_oos\", \"plus\")\n",
    "#the plus configuration refers to the subset that contains the out-of-scope training examples.\n"
   ],
   "metadata": {
    "colab": {
     "base_uri": "https://localhost:8080/"
    },
    "id": "4Rq0TXji--ZN",
    "outputId": "d1184daf-b96e-44d9-c453-5592b4062559"
   },
   "execution_count": null,
   "outputs": []
  },
  {
   "cell_type": "code",
   "source": [
    "sample = clinc[\"train\"][0]\n",
    "print(sample)\n",
    "#Each example in the CLINC150 dataset consists of a query in the text column and its corresponding intent."
   ],
   "metadata": {
    "colab": {
     "base_uri": "https://localhost:8080/"
    },
    "id": "4-YCJk6V_R_E",
    "outputId": "211853e1-df3b-4db8-b084-6a1549a0c646"
   },
   "execution_count": null,
   "outputs": []
  },
  {
   "cell_type": "code",
   "source": [
    "intents = clinc[\"train\"].features[\"intent\"]\n",
    "intent = intents.int2str(sample[\"intent\"])\n",
    "print(intent)"
   ],
   "metadata": {
    "colab": {
     "base_uri": "https://localhost:8080/"
    },
    "id": "On2WjU5p_acw",
    "outputId": "4320185e-e24e-47d1-c20b-016cbdfb493b"
   },
   "execution_count": null,
   "outputs": []
  },
  {
   "cell_type": "markdown",
   "source": [
    "# **Tokenizing the dataset**"
   ],
   "metadata": {
    "id": "bYUekVRT_wYp"
   }
  },
  {
   "cell_type": "code",
   "source": [
    "from transformers import AutoTokenizer"
   ],
   "metadata": {
    "id": "fy4M3eHt_mOW"
   },
   "execution_count": null,
   "outputs": []
  },
  {
   "cell_type": "code",
   "source": [
    "student_checkpoint = \"distilbert-base-uncased\"\n",
    "student_tokenizer = AutoTokenizer.from_pretrained(student_checkpoint)"
   ],
   "metadata": {
    "id": "m4_W7b1qAIQB"
   },
   "execution_count": null,
   "outputs": []
  },
  {
   "cell_type": "code",
   "source": [
    "def tokenize_text(batch):\n",
    "  return student_tokenizer(batch[\"text\"], truncation=True)\n",
    ""
   ],
   "metadata": {
    "id": "IQZHai_4ALau"
   },
   "execution_count": null,
   "outputs": []
  },
  {
   "cell_type": "code",
   "source": [
    "clinc_tokenized = clinc.map(tokenize_text, batched=True, remove_columns=[\"text\"])\n",
    "\n",
    "#We will remove text column as we don't need it\n",
    "#We will also rename the intent column to labels so it can be automatically detected by the trainer.\n",
    "clinc_tokenized = clinc_tokenized.rename_column(\"intent\", \"labels\")\n"
   ],
   "metadata": {
    "colab": {
     "base_uri": "https://localhost:8080/",
     "height": 49,
     "referenced_widgets": [
      "bb8ac1ddbb26435aa3e9e5f87e9bdfe8",
      "b68acf236f824b6a9b7bf66b8cd16c1f",
      "15e3ba87887445c4889592c060e55d0e",
      "fd4ae240fd1a4dfb9541981abdf69d0b",
      "2e9a74e68d764a88bd26686f04d73dd8",
      "6ce20ce6e8a84164a5c8282673c671da",
      "0702b297e12f4b1ba90bff921425cb76",
      "b4c5840d07cb4541bfb179ba51b5b88f",
      "7c9acc445c0e49cab9d1b85681735696",
      "ad0dd17f901e4233bc4738b1a4943a94",
      "ef01712a2aaf4baf92a23efa4aa3fe98"
     ]
    },
    "id": "bKMIrbmHAPtV",
    "outputId": "13f556b0-50f3-4823-9756-e7532861cd67"
   },
   "execution_count": null,
   "outputs": []
  },
  {
   "cell_type": "markdown",
   "source": [
    "# **Defining metrics for Distillation Trainer**"
   ],
   "metadata": {
    "id": "u7-roZBEAlcd"
   }
  },
  {
   "cell_type": "code",
   "source": [
    "!pip install evaluate"
   ],
   "metadata": {
    "collapsed": true,
    "colab": {
     "base_uri": "https://localhost:8080/"
    },
    "id": "HXt61QNpBc_D",
    "outputId": "00791e52-db69-487e-de28-cf9a1a54c318"
   },
   "execution_count": null,
   "outputs": []
  },
  {
   "cell_type": "code",
   "source": [
    "import numpy as np\n",
    "import evaluate\n",
    "\n",
    "accuracy = evaluate.load(\"accuracy\")\n",
    "\n",
    "def compute_metrics(pred):\n",
    "    predictions, labels = pred\n",
    "    predictions = np.argmax(predictions, axis=1)\n",
    "    return accuracy.compute(predictions=predictions, references=labels)\n"
   ],
   "metadata": {
    "id": "cwz1LBfBAVQc"
   },
   "execution_count": null,
   "outputs": []
  },
  {
   "cell_type": "code",
   "source": [
    "!pip install transformers[torch]"
   ],
   "metadata": {
    "colab": {
     "base_uri": "https://localhost:8080/"
    },
    "id": "Eu2dNTP6AvqE",
    "outputId": "39801783-71dc-4b83-f7d7-d7af4f506c56"
   },
   "execution_count": null,
   "outputs": []
  },
  {
   "cell_type": "code",
   "source": [
    "batch_size = 48\n",
    "finetuned_student_ckpt = \"distilbert-base-uncased-finetuned-clinc-student\""
   ],
   "metadata": {
    "id": "o6hZQZ1PBqnu"
   },
   "execution_count": null,
   "outputs": []
  },
  {
   "cell_type": "code",
   "source": [
    "!pip install accelerate>=0.20.1"
   ],
   "metadata": {
    "id": "4B7Lylq7DoZp"
   },
   "execution_count": null,
   "outputs": []
  },
  {
   "cell_type": "code",
   "source": [
    "student_training_args = KnowledgeDistillationTrainingArguments(\n",
    "    output_dir=finetuned_student_ckpt, evaluation_strategy = \"epoch\",\n",
    "    num_train_epochs=5, learning_rate=2e-5,\n",
    "    per_device_train_batch_size=batch_size,\n",
    "    per_device_eval_batch_size=batch_size, alpha=1, weight_decay=0.01)"
   ],
   "metadata": {
    "colab": {
     "base_uri": "https://localhost:8080/"
    },
    "id": "m6RqiIA0DrJn",
    "outputId": "6bdd5c61-06e6-460b-e072-bdb4cef64c56"
   },
   "execution_count": null,
   "outputs": []
  },
  {
   "cell_type": "markdown",
   "source": [
    "# **Initializing Student Model & providing the student model with the mappings between each intent and label ID**"
   ],
   "metadata": {
    "id": "Am5xs47cElWz"
   }
  },
  {
   "cell_type": "code",
   "source": [
    "from transformers import pipeline\n",
    "\n",
    "bert_ckpt = \"transformersbook/bert-base-uncased-finetuned-clinc\"\n",
    "pipe = pipeline(\"text-classification\", model=bert_ckpt)\n",
    "\n",
    "id2label = pipe.model.config.id2label\n",
    "label2id = pipe.model.config.label2id"
   ],
   "metadata": {
    "colab": {
     "base_uri": "https://localhost:8080/",
     "height": 226,
     "referenced_widgets": [
      "ac7cead75fb04eca96d889e70bd186c6",
      "5d919906870e4f4b9b5eba3f170a010b",
      "19ae7f377aca4a00b2b80bf67ad8b93e",
      "81522aa39e8d4c5a89721b66380bd10f",
      "bba98c9528324f7691afe6c5911abec4",
      "672773858dac46cca3a558feb35ca23b",
      "7603ab6fe5844e41815cc818a5fa5383",
      "257b25494046443d86cd16895fe5d039",
      "1b7ef8e5f81e42d69c49855101205d24",
      "9ca98033b19e4d18a083cb3e6f3ae72d",
      "fc1200208a1f4b6686feffe7dc9ebc72",
      "500e6414b73a48af9c821902081a6232",
      "e22fac45d20f4a17a22af9c63a412a7e",
      "ab83fce0a1c9462d8394a3f05db02e90",
      "933d41bf6d824482b6cc62e39a0b3630",
      "c68c125640044c36943fffddbb1316fe",
      "335038665fb84c72ae6c78ef69d70372",
      "24815a894b824a6e9bb6d90253aef998",
      "1df82c84ddfb4ec29deba9b41efdeba8",
      "da249220a3554b7ca2455b5f847e16cf",
      "6851002ac2384f0b8506336ff1f37a92",
      "e0bea248502f4b77bb82c07986c366f9",
      "c2979bd22e77463b87952fa5654be847",
      "b55467b299ed4e6bbac637d44c2fb96b",
      "da01d4a87cde4f80b710d1b5a1633a5a",
      "99c1712be80346c2817110ca0688c481",
      "cc716d9498324445a8811b9aaa13c9f4",
      "432ceff471974159a2ef7b2ddc8adc8c",
      "8f1d13b6db604416b5433c60f1d44252",
      "1e055ecc596f42eaa31d8d856c9f0e60",
      "b1c07dac55b2483e9ae3100f2d29322b",
      "473d05b4fa23434d92c36c3c06a0e52c",
      "bec3381942ca4f38969abf98a8141511",
      "6a9c0ae3495d4bbdae034ad9382740e2",
      "46bc4626e86d4ea185d3838f04710084",
      "a6182ca1a09d41b890d0fd68ef6a25ad",
      "e2ddaa6140614ab09c463e07e54a9d07",
      "fbb8552926604272bfab9889c6ff46ab",
      "fb5697a6f32744b5a240e7b10192d535",
      "0f59ea9e6f864ef3ad3598a40e830190",
      "21fab8ce96794595ade3683947e81a14",
      "5d65863304394cffac11041ae6e9a023",
      "2e2ad68a6e87473ca31702e59081217d",
      "dd8113fd8b87420699748ca3eb5e5e38",
      "b62c0c2d7e6447cc8a763450ef56ba87",
      "221a6b90b1624e05afc24957366c2c35",
      "78db06a9bb2a41789e14c251b2e46ee7",
      "14159d798bc94b6bb8a1b1cca240ea2e",
      "76478ba4eaec4636b0c8aff3939320b7",
      "56809599436f4339a3fdad922c0dc6d4",
      "219ecfb7bed74dd68ee0259331fad2a7",
      "deafb7e0a91e436a8c52bf15b452c1b0",
      "2ea0c3721bb64f76a67746a6b5503f91",
      "976acef2a36941bc907aa3d95bcc9ac6",
      "a6a040619fe94f8a9d3b24c170135f3e",
      "3d36e062267d4b17a587055bda88e5d8",
      "043f0bf7625640feb8561aaaa849cb6f",
      "8c8634af663f465aad3a5e46489c5829",
      "3eb862ceb9524122bab606cddd59d96a",
      "83ca14d3b89f4d4dbae3ef8dfac20c3f",
      "325ac18795da477b935f868f751bcff1",
      "637cb9dd18ca463eb92c77b4d4b46179",
      "ba53986a7c574e9488179a261679ec66",
      "e1fa8d07bdfe46eabbb623710060bfe6",
      "0c6bc1142c5a4b02b57e70f12d42815e",
      "2a5ed43ef4264cb7a3c7607dc35e046a"
     ]
    },
    "id": "xWIhbNm9ECia",
    "outputId": "9aa3b6fc-f003-4a87-d353-c1666869fc89"
   },
   "execution_count": null,
   "outputs": []
  },
  {
   "cell_type": "code",
   "source": [
    "from transformers import AutoConfig\n",
    "num_labels = intents.num_classes\n",
    "student_config = (AutoConfig\n",
    "                  .from_pretrained(student_checkpoint, num_labels=num_labels,\n",
    "                                    id2label=id2label, label2id=label2id))\n",
    ""
   ],
   "metadata": {
    "id": "OiSAgbfiFKCO"
   },
   "execution_count": null,
   "outputs": []
  },
  {
   "cell_type": "code",
   "source": [
    "import torch\n",
    "from transformers import AutoModelForSequenceClassification\n",
    "device = torch.device(\"cuda\" if torch.cuda.is_available() else \"cpu\")\n",
    "def student_init():\n",
    "  return (AutoModelForSequenceClassification.from_pretrained(student_checkpoint, config=student_config).to(device))"
   ],
   "metadata": {
    "id": "bMlkyVjrFQ7D"
   },
   "execution_count": null,
   "outputs": []
  },
  {
   "cell_type": "markdown",
   "source": [
    "# **Loading teacher Checkpoint & Starting Fine-Tuning**"
   ],
   "metadata": {
    "id": "YzHrNh3mFVck"
   }
  },
  {
   "cell_type": "code",
   "source": [
    "teacher_checkpoint = \"transformersbook/bert-base-uncased-finetuned-clinc\""
   ],
   "metadata": {
    "id": "fkJFPfk2FUv2"
   },
   "execution_count": null,
   "outputs": []
  },
  {
   "cell_type": "code",
   "source": [
    "teacher_model = (AutoModelForSequenceClassification\n",
    "                     .from_pretrained(teacher_checkpoint, num_labels=num_labels)\n",
    "                     .to(device))\n",
    ""
   ],
   "metadata": {
    "id": "LvfSGKnRFfkp"
   },
   "execution_count": null,
   "outputs": []
  },
  {
   "cell_type": "code",
   "source": [
    "#Starting the training process\n",
    "distilbert_trainer = KnowledgeDistillationTrainer(model_init=student_init,\n",
    "        teacher_model=teacher_model, args=student_training_args,\n",
    "        train_dataset=clinc_tokenized['train'], eval_dataset=clinc_tokenized['validation'],\n",
    "        compute_metrics=compute_metrics, tokenizer=student_tokenizer)\n",
    "distilbert_trainer.train()"
   ],
   "metadata": {
    "colab": {
     "base_uri": "https://localhost:8080/",
     "height": 408
    },
    "id": "7c5FlyxIFi1q",
    "outputId": "0d4f0bae-6916-4ed0-8e00-687b3191b5bb"
   },
   "execution_count": null,
   "outputs": []
  },
  {
   "cell_type": "code",
   "source": [
    "def save_teacher_model():\n",
    "  teacher_model.save_pretrained(\"teacher_model\")\n",
    "def save_student_model():\n",
    "  distilbert_trainer.save_model('student_model')\n"
   ],
   "metadata": {
    "id": "1sRTM5sEF2-Q"
   },
   "execution_count": null,
   "outputs": []
  },
  {
   "cell_type": "code",
   "source": [
    "save_teacher_model()\n",
    "save_student_model()"
   ],
   "metadata": {
    "id": "us24EnpaJg2X"
   },
   "execution_count": null,
   "outputs": []
  },
  {
   "cell_type": "markdown",
   "source": [
    "# **Comparing the two models based on No. Of Params**"
   ],
   "metadata": {
    "id": "0bvv3kFtJqkq"
   }
  },
  {
   "cell_type": "code",
   "source": [
    "from transformers import AutoConfig, AutoModelForSequenceClassification\n",
    "import os\n",
    "\n",
    "def compute_parameters(model_path):\n",
    "  model = AutoModelForSequenceClassification.from_pretrained(model_path)\n",
    "  parameters = model.num_parameters()\n",
    "  return parameters\n",
    ""
   ],
   "metadata": {
    "id": "HbxhyBKWJagq"
   },
   "execution_count": null,
   "outputs": []
  },
  {
   "cell_type": "code",
   "source": [
    "teacher_model_parameters = compute_parameters(model_path=\"/content/teacher_model\")\n",
    "print(\"Teacher Model: \", teacher_model_parameters)\n",
    ""
   ],
   "metadata": {
    "colab": {
     "base_uri": "https://localhost:8080/"
    },
    "id": "CGnXwfazJyVX",
    "outputId": "8e250bae-42cf-4216-93c3-0784a47f00af"
   },
   "execution_count": null,
   "outputs": []
  },
  {
   "cell_type": "code",
   "source": [
    "student_model_parameters = compute_parameters(model_path=\"/content/student_model\")\n",
    "print(\"Student Model: \", student_model_parameters)"
   ],
   "metadata": {
    "colab": {
     "base_uri": "https://localhost:8080/"
    },
    "id": "ISeUygzKJ0nf",
    "outputId": "99287a6f-0556-416a-bf91-b5a9510f38d6"
   },
   "execution_count": null,
   "outputs": []
  },
  {
   "cell_type": "code",
   "source": [
    "!ls /content/student_model -al --block-size=MB"
   ],
   "metadata": {
    "colab": {
     "base_uri": "https://localhost:8080/"
    },
    "id": "BkjLOr1hQ1UO",
    "outputId": "62e00ded-9cf6-4078-8e05-699a918d569e"
   },
   "execution_count": null,
   "outputs": []
  },
  {
   "cell_type": "code",
   "source": [
    "!ls /content/teacher_model -al --block-size=MB"
   ],
   "metadata": {
    "colab": {
     "base_uri": "https://localhost:8080/"
    },
    "id": "IEmerulMQ31H",
    "outputId": "90acfccf-efde-4fa3-9575-c321b10351f6"
   },
   "execution_count": null,
   "outputs": []
  },
  {
   "cell_type": "code",
   "source": [
    "decrease = (student_model_parameters-teacher_model_parameters)/teacher_model_parameters\n",
    "print(decrease*100)"
   ],
   "metadata": {
    "colab": {
     "base_uri": "https://localhost:8080/"
    },
    "id": "DiXLQYxxJ31m",
    "outputId": "906aecb8-b1d2-4c91-8279-43dab75c9c49"
   },
   "execution_count": null,
   "outputs": []
  },
  {
   "cell_type": "markdown",
   "source": [
    "# **Comparing Accuracies of Teacher & Student Model**"
   ],
   "metadata": {
    "id": "D8AZhbwFMhE-"
   }
  },
  {
   "cell_type": "code",
   "source": [
    "import numpy as np\n",
    "import torch\n",
    "import evaluate\n",
    "from torch.utils.data import DataLoader\n",
    "from tqdm import tqdm\n",
    "\n",
    "from transformers import DataCollatorWithPadding\n",
    "\n",
    "data_collator = DataCollatorWithPadding(tokenizer=student_tokenizer, return_tensors=\"pt\")\n",
    "\n",
    "\n",
    "accuracy_metric = evaluate.load(\"accuracy\")\n",
    "\n",
    "def compute_model_accuracy(model, dataset, tokenizer, batch_size=32):\n",
    "    model.eval()\n",
    "    model.to(\"cuda\" if torch.cuda.is_available() else \"cpu\")\n",
    "\n",
    "    data_collator = DataCollatorWithPadding(tokenizer=tokenizer, return_tensors=\"pt\")\n",
    "    dataloader = DataLoader(dataset, batch_size=batch_size, collate_fn=data_collator)\n",
    "\n",
    "    all_preds = []\n",
    "    all_labels = []\n",
    "\n",
    "    for batch in tqdm(dataloader, desc=\"Evaluating\", leave=False):\n",
    "        labels = batch[\"labels\"].to(model.device)\n",
    "        inputs = {k: v.to(model.device) for k, v in batch.items() if k != \"labels\"}\n",
    "\n",
    "        with torch.no_grad():\n",
    "            outputs = model(**inputs)\n",
    "            logits = outputs.logits\n",
    "            preds = torch.argmax(logits, dim=-1)\n",
    "\n",
    "        all_preds.extend(preds.cpu().numpy())\n",
    "        all_labels.extend(labels.cpu().numpy())\n",
    "\n",
    "    return accuracy_metric.compute(predictions=all_preds, references=all_labels)\n"
   ],
   "metadata": {
    "id": "7IQUesPjJ67J"
   },
   "execution_count": null,
   "outputs": []
  },
  {
   "cell_type": "code",
   "source": [
    "from transformers import AutoModelForSequenceClassification\n",
    "\n",
    "student_model = AutoModelForSequenceClassification.from_pretrained(\"/content/student_model\")\n"
   ],
   "metadata": {
    "id": "r68nx2fIMNXs"
   },
   "execution_count": null,
   "outputs": []
  },
  {
   "cell_type": "code",
   "source": [
    "teacher_acc = compute_model_accuracy(teacher_model, clinc_tokenized[\"validation\"], tokenizer=student_tokenizer)\n",
    "student_acc = compute_model_accuracy(student_model, clinc_tokenized[\"validation\"], tokenizer=student_tokenizer)\n",
    "\n",
    "print(f\"Teacher Accuracy: {teacher_acc['accuracy']*100:.2f}%\")\n",
    "print(f\"Student Accuracy: {student_acc['accuracy']*100:.2f}%\")\n"
   ],
   "metadata": {
    "colab": {
     "base_uri": "https://localhost:8080/"
    },
    "id": "mHqeRhVHKaGf",
    "outputId": "d54f7f03-1668-49b0-e5e0-beb31fa27cb1"
   },
   "execution_count": null,
   "outputs": []
  },
  {
   "cell_type": "markdown",
   "source": [
    "# **Comparing Inference times of both Models**"
   ],
   "metadata": {
    "id": "shLT_UaeMoyL"
   }
  },
  {
   "cell_type": "code",
   "source": [
    "#Lets warmup first\n",
    "from transformers import pipeline\n",
    "import time\n",
    "\n",
    "pipe = pipeline(\"text-classification\", model=\"/content/teacher_model\", tokenizer='bert-base-uncased')\n",
    "\n",
    "sample_input = clinc['train']['text'][101]\n",
    "\n",
    "#WARMUP\n",
    "for _ in range(10):\n",
    "  _ = pipe(sample_input)\n",
    "\n",
    "start = time.time()\n",
    "for _ in range(100):\n",
    "  _ = pipe(sample_input)\n",
    "total_time_teacher_model = time.time()-start\n",
    "print(\"Total time to process 100 requests for Teacher Model: \",total_time_teacher_model)"
   ],
   "metadata": {
    "colab": {
     "base_uri": "https://localhost:8080/",
     "height": 217,
     "referenced_widgets": [
      "5d99e5e9623d4575994173b0fdf8be7a",
      "8ea0de6ef5304ea6887e9fee04d75f67",
      "06fe6c2a52bd4cbd8e368526f8d43214",
      "e854cc03890f4589bb932b329cfc174a",
      "595d8bc0f81e4a9b955ef111de3cbd23",
      "f5becba63ab8455b82fb00d31e4d5cf5",
      "e94ad169c1da41d08b7156e65af947d6",
      "5b1f365422744cc38c90b5c2179b2e5a",
      "618006f4f91e4bb18e51f6bb38fcce06",
      "2c2d4a6d02cb4af5890c89368a0dc155",
      "557b82d684a84c298eed1bc0de8c6346",
      "667fc0847da04205b961c2a3503c39b5",
      "976af3c5264648c1876c23a8c36e2eab",
      "99e2ef0edaa84ef291be5f919fa42f5c",
      "49036148bd344d95a9c6ea4c0a368e43",
      "05599ae557a5430c809424d691955947",
      "8d5be1b9413f4cce9da4647b01c144af",
      "6ad6602bde4d488c9465554ca4252e0c",
      "1e0e43d7e09d45daa7c709b2e26c9732",
      "38cb731a30674a44b7a62ef2319f187d",
      "91e0f2e8eba04db680201d608414edfb",
      "d816b4c050694836b7f881928d49025c",
      "2e7dcdf7b6ef495188733edaf9faecba",
      "ca9ed1a65ce948f5880cf1c44f479e6a",
      "52e9a079cc9e41eaa2fe9b40455a8796",
      "4fe482634a094274a0523f5861a7c00b",
      "57d6208be1b146c8bd3952e4037cfffd",
      "45b1718975b7483dbc54077f672f5bfe",
      "c49bbe89727847fdb79eccdd737b5915",
      "09ddf7a1fd3c43d58da23a8c3d3265b6",
      "4a8bf0af1fba41909b3dbce4ff69b166",
      "e6d9845b1b8b44db99d1ab55afca7af9",
      "f51b89f2561748d4ad9c553a3c815657",
      "94799020384145d08ffb1e971a9ce6b1",
      "8a79c1e7bc2a4d0197143a0626b51c49",
      "cbd2c3468d454b64b5994f5ff53f326b",
      "5261079f49114b4eaa0f50b6e87b7e40",
      "1d9a2d67aa1144c4a243eecf816a008e",
      "44661a44b041458e838e21f99c6ce884",
      "56a66614c4d74995b8f0c996e1592a56",
      "9c0d3077b75646d2ae17075fa3aee74c",
      "f4ee505d35234460adfb38f20fc1230e",
      "fec9dafa017346b496071bc47ccf3fc1",
      "9e5a7f72e1fe4aeb859cc0540509c61a"
     ]
    },
    "id": "EYrgY3IbKfPu",
    "outputId": "8c5a80d2-1141-4261-bbd0-83dcdfcbc026"
   },
   "execution_count": null,
   "outputs": []
  },
  {
   "cell_type": "code",
   "source": [
    "pipe = pipeline(\"text-classification\", model=\"/content/student_model\", tokenizer=\"distilbert-base-uncased\")\n",
    "\n",
    "sample_input = clinc['train']['text'][101]\n",
    "\n",
    "#WARMUP\n",
    "for _ in range(10):\n",
    "  _ = pipe(sample_input)\n",
    "\n",
    "start = time.time()\n",
    "for _ in range(100):\n",
    "  _ = pipe(sample_input)\n",
    "total_time_student_model = time.time()-start\n",
    "\n",
    "print(\"Total time to process 100 requests for Student Model: \",total_time_student_model)"
   ],
   "metadata": {
    "colab": {
     "base_uri": "https://localhost:8080/"
    },
    "id": "9uVQL3QfM67n",
    "outputId": "4b86881f-6c98-49ad-c6f9-0b941c04584e"
   },
   "execution_count": null,
   "outputs": []
  },
  {
   "cell_type": "code",
   "source": [
    "decrease_in_time = (total_time_teacher_model-total_time_student_model)/total_time_teacher_model\n",
    "print(decrease_in_time*100)\n",
    ""
   ],
   "metadata": {
    "colab": {
     "base_uri": "https://localhost:8080/"
    },
    "id": "2I27tirNNBSb",
    "outputId": "3066a64c-8358-4874-df3f-5f5fef2949d5"
   },
   "execution_count": null,
   "outputs": []
  },
  {
   "cell_type": "code",
   "source": [],
   "metadata": {
    "id": "qm3XiRL_NFSE"
   },
   "execution_count": null,
   "outputs": []
  }
 ]
}